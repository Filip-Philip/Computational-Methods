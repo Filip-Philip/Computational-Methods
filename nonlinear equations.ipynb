{
  "nbformat": 4,
  "nbformat_minor": 0,
  "metadata": {
    "colab": {
      "provenance": []
    },
    "kernelspec": {
      "name": "python3",
      "display_name": "Python 3"
    },
    "language_info": {
      "name": "python"
    }
  },
  "cells": [
    {
      "cell_type": "code",
      "source": [
        "import numpy as np\n",
        "import math\n",
        "pi = np.pi\n",
        "e = np.e"
      ],
      "metadata": {
        "id": "VmgVvF_herZ7"
      },
      "execution_count": null,
      "outputs": []
    },
    {
      "cell_type": "code",
      "execution_count": null,
      "metadata": {
        "id": "i9rrfjBSdiFa"
      },
      "outputs": [],
      "source": [
        "def bisectInterval(f, minPrecision, a, b, absoluteError):\n",
        "    c = a\n",
        "    iterationCounter = 0\n",
        "    while (np.sign(f(a)) * np.sign(f(b))) < 0 and abs(f(c)) > absoluteError and abs(b - a) > minPrecision:\n",
        "        c = a + (b - a) / 2\n",
        "        if np.sign(f(c)) * np.sign(f(b)) < 0:\n",
        "            a = c\n",
        "        elif np.sign(f(a)) * np.sign(f(c)) < 0:\n",
        "            b = c\n",
        "\n",
        "        iterationCounter += 1\n",
        "    \n",
        "    return c, iterationCounter\n"
      ]
    },
    {
      "cell_type": "code",
      "source": [
        "def f1(x):\n",
        "    return np.cos(x) * np.cosh(x) - 1\n",
        "\n",
        "def f2(x):\n",
        "    return 1/x - np.tan(x)\n",
        "\n",
        "def f3(x):\n",
        "    return 2**(-x) + e**x + 2 * np.cos(x) - 6"
      ],
      "metadata": {
        "id": "eoTHeHbvhefK"
      },
      "execution_count": null,
      "outputs": []
    },
    {
      "cell_type": "code",
      "source": [
        "def derf1(x):\n",
        "    return np.cos(x) * np.sinh(x) - np.sin(x) * np.cosh(x)\n",
        "\n",
        "def derf2(x):\n",
        "    return -1/(x**2) - (np.sec(x))**2\n",
        "\n",
        "def derf3(x):\n",
        "    return e**x - 2**(-x) * np.log(2) - 2 * np.sin(x)"
      ],
      "metadata": {
        "id": "aQHzZf9QmJq0"
      },
      "execution_count": null,
      "outputs": []
    },
    {
      "cell_type": "code",
      "source": [
        "a1 = 3*pi/2\n",
        "b1 = 2*pi\n",
        "\n",
        "a2 = 0\n",
        "b2 = pi/2\n",
        "\n",
        "a3 = 1\n",
        "b3 = 3"
      ],
      "metadata": {
        "id": "lRk8_OuXpQ7I"
      },
      "execution_count": null,
      "outputs": []
    },
    {
      "cell_type": "code",
      "source": [
        "print(bisectInterval(f1, 10**(-33), a1, b1, 10**(-7)))"
      ],
      "metadata": {
        "colab": {
          "base_uri": "https://localhost:8080/"
        },
        "id": "j5oG1289iJBB",
        "outputId": "1db19ce1-a00e-4e51-b868-73d6a71db2a8"
      },
      "execution_count": null,
      "outputs": [
        {
          "output_type": "stream",
          "name": "stdout",
          "text": [
            "(4.7300407459601495, 29)\n"
          ]
        }
      ]
    },
    {
      "cell_type": "code",
      "source": [
        "def newton(f, derf, maxIterations, error, a, b):\n",
        "    prev_x = a\n",
        "    x = prev_x - f(prev_x) / derf(prev_x)\n",
        "    iterationCounter = 1\n",
        "    while f(x) != 0 and iterationCounter < maxIterations and abs(prev_x - x) > error:\n",
        "        if a > x or x > b:\n",
        "            print(\"Did not converge\")\n",
        "            return x, iterationCounter\n",
        "        \n",
        "        tmp = x\n",
        "        x = prev_x - f(prev_x) / derf(prev_x)\n",
        "        prev_x = x\n",
        "        iterationCounter += 1\n",
        "    \n",
        "    return x, iterationCounter"
      ],
      "metadata": {
        "id": "RJht7XPKlbl1"
      },
      "execution_count": null,
      "outputs": []
    },
    {
      "cell_type": "code",
      "source": [
        "print(newton(f1, derf1, 500, 10**(-7), a1, b1))\n",
        "print(bisectInterval(f1, 10**(-3), a1, b1, 10**(-7)))"
      ],
      "metadata": {
        "colab": {
          "base_uri": "https://localhost:8080/"
        },
        "id": "zUjsnxIHkfvv",
        "outputId": "7e0064d4-79ff-4c99-f000-51b0ae472ae4"
      },
      "execution_count": null,
      "outputs": [
        {
          "output_type": "stream",
          "name": "stdout",
          "text": [
            "(4.730354112649442, 2)\n",
            "(4.730029759445374, 11)\n"
          ]
        }
      ]
    },
    {
      "cell_type": "code",
      "source": [
        "from random import uniform"
      ],
      "metadata": {
        "id": "Ht2hz-a7qzEo"
      },
      "execution_count": null,
      "outputs": []
    },
    {
      "cell_type": "code",
      "source": [
        "def secants(f, maxIterations, error, a, b):\n",
        "    prev_prev_x = uniform(a, b)\n",
        "    prev_x = uniform(a, b)\n",
        "    x = prev_x - f(prev_x) * ((prev_x - prev_prev_x) / f(prev_x) - f(prev_prev_x))\n",
        "    iterationCounter = 1\n",
        "    while f(x) != 0 and iterationCounter < maxIterations and abs(prev_x - x) > error:\n",
        "        if a > x or x > b:\n",
        "            print(\"Did not converge\")\n",
        "            return x, iterationCounter\n",
        "            \n",
        "        tmp = x\n",
        "        x = prev_x - f(prev_x) * ((prev_x - prev_prev_x) / f(prev_x) - f(prev_prev_x))\n",
        "        prev_prev_x = prev_x\n",
        "        prev_x = tmp\n",
        "        iterationCounter += 1\n",
        "    \n",
        "    return x, iterationCounter"
      ],
      "metadata": {
        "id": "I2ypnoB8qI55"
      },
      "execution_count": null,
      "outputs": []
    },
    {
      "cell_type": "code",
      "source": [
        "print(newton(f1, derf1, 500, 10**(-7), a1, b1))\n",
        "print(bisectInterval(f1, 10**(-3), a1, b1, 10**(-7)))\n",
        "print(secants(f1, 50, 10**(-2), a1, b1))"
      ],
      "metadata": {
        "colab": {
          "base_uri": "https://localhost:8080/"
        },
        "id": "4MoPUqHXsQGd",
        "outputId": "599f979f-7308-43fd-f68e-6cc884f75d61"
      },
      "execution_count": null,
      "outputs": [
        {
          "output_type": "stream",
          "name": "stdout",
          "text": [
            "(4.730354112649442, 2)\n",
            "(4.730029759445374, 11)\n",
            "Did not converge\n",
            "(2969.7064834303587, 1)\n"
          ]
        },
        {
          "output_type": "stream",
          "name": "stderr",
          "text": [
            "/usr/local/lib/python3.7/dist-packages/ipykernel_launcher.py:2: RuntimeWarning: overflow encountered in cosh\n",
            "  \n"
          ]
        }
      ]
    }
  ]
}