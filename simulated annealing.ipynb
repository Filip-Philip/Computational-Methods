{
  "nbformat": 4,
  "nbformat_minor": 0,
  "metadata": {
    "colab": {
      "provenance": []
    },
    "kernelspec": {
      "name": "python3",
      "display_name": "Python 3"
    },
    "language_info": {
      "name": "python"
    }
  },
  "cells": [
    {
      "cell_type": "code",
      "source": [
        "from random import randint\n",
        "import matplotlib.pyplot as plt\n",
        "import numpy as np\n",
        "from math import sqrt"
      ],
      "metadata": {
        "id": "kqprOsLFX_Ts"
      },
      "execution_count": null,
      "outputs": []
    },
    {
      "cell_type": "code",
      "execution_count": null,
      "metadata": {
        "colab": {
          "base_uri": "https://localhost:8080/",
          "height": 389
        },
        "id": "QdTued-oM4Ul",
        "outputId": "111e194e-cd16-4598-dc9f-29821db1d1be"
      },
      "outputs": [
        {
          "output_type": "stream",
          "name": "stdout",
          "text": [
            "(86, 106)\n",
            "(1, 130)\n",
            "(94, 136)\n",
            "(12, 94)\n",
            "[array([ 89.09797539, 100.08292931]), array([ 78.47301547, 105.81019292]), array([102.21650522, 103.41047104]), array([  2.26769798, 128.93756039]), array([  0.26592051, 129.7683728 ]), array([  0.44297277, 130.18190039]), array([ 95.79601114, 136.09161381]), array([ 99.17742328, 135.79050441]), array([ 89.8071708 , 134.64362115]), array([11.97791004, 94.4253043 ]), array([ 3.96269093, 89.26231523]), array([16.31357202, 96.13940052])]\n",
            "[89.09797538936922, 78.47301547371538, 102.21650522215356, 2.267697979836659, 0.26592050749219465, 0.44297276737159064, 95.79601114145329, 99.1774232832517, 89.80717079678968, 11.977910043870708, 3.962690933787531, 16.31357201712583] [100.08292931359907, 105.81019292403005, 103.41047103624484, 128.93756039282817, 129.76837279548303, 130.1819003925493, 136.09161380864543, 135.79050440693467, 134.64362115403782, 94.42530429518321, 89.26231523384207, 96.13940052287745]\n"
          ]
        },
        {
          "output_type": "display_data",
          "data": {
            "text/plain": [
              "<Figure size 432x288 with 1 Axes>"
            ],
            "image/png": "[encoded data removed]"
          },
          "metadata": {
            "needs_background": "light"
          }
        }
      ],
      "source": [
        "radius = 150\n",
        "number_of_cities = 12\n",
        "n = 3\n",
        "numberOfNeighbors = 4\n",
        "points = []\n",
        "lower_bound = 0\n",
        "for i in range(numberOfNeighbors):\n",
        "    center1 = (randint(0, radius), randint(0, radius))\n",
        "    print(center1)\n",
        "    dev1 = (randint(0, 10), randint(0, 10))\n",
        "    points += [np.random.normal(center1, dev1) for i in range(n)]\n",
        "\n",
        "print(points)\n",
        "x = [0] * len(points)\n",
        "y = [0] * len(points)\n",
        "for i in range(len(points)):\n",
        "    x[i] = points[i][0]\n",
        "    y[i] = points[i][1]\n",
        "\n",
        "print(x, y)\n",
        "plt.scatter(x, y)\n",
        "plt.show()"
      ]
    },
    {
      "cell_type": "code",
      "source": [
        "from scipy.optimize import dual_annealing\n",
        "from random import random\n",
        "from numpy import exp\n",
        "from copy import deepcopy"
      ],
      "metadata": {
        "id": "oyeYxx3Qm8HY"
      },
      "execution_count": null,
      "outputs": []
    },
    {
      "cell_type": "code",
      "source": [
        "def temperatureFunction(currentValue, step):\n",
        "    return max(0, currentValue - 10*step)\n",
        "\n",
        "def distance_between_cities(city1, city2):\n",
        "    return sqrt((city1[0] - city2[0])**2 + (city1[1] - city2[1])**2)\n",
        "\n",
        "def compute_travelling_salesperson(cities, coords):\n",
        "    n = len(cities)\n",
        "    route = 0\n",
        "    for i in range(n - 1):\n",
        "        route += distance_between_cities(coords[cities[i]], coords[cities[i+1]])\n",
        "    route += distance_between_cities(coords[cities[n-1]], coords[cities[0]])\n",
        "    return route\n",
        "\n",
        "def move_combinatorial(route, a, b, c):\n",
        "    n = len(route)\n",
        "    city1 = randint(0, n - 1)\n",
        "    city2 = randint(0, n - 1)\n",
        "    route[city1], route[city2] = route[city2], route[city1]\n",
        "    return route, n\n",
        "\n",
        "def cooling_linear(t_max, alpha, step):\n",
        "    return t_max / (1 + alpha * step)\n",
        "\n",
        "\n",
        "def cooling_linear_additive(t_min, t_max, step, step_max):\n",
        "    return t_min + (t_max - t_min) * ((step_max - step) / step_max)\n",
        "\n",
        "def cooling_quadratic_m(t_min, alpha, step):\n",
        "    return t_min / (1 + alpha * step**2)\n",
        "\n",
        "def annealing(state, swap_function, objective_function, number_of_elements_to_move, coords, step_max, alpha, min_temperature, max_temperature):\n",
        "    current_energy = objective_function(state, coords)\n",
        "    best_energy = current_energy\n",
        "    best_state = deepcopy(state)\n",
        "    temperature = max_temperature\n",
        "    step = 0\n",
        "    accept = 0\n",
        "    while step < step_max and temperature >= min_temperature: \n",
        "        new_state, _ = deepcopy(swap_function(state, number_of_elements_to_move, current_energy, coords))\n",
        "        new_energy = objective_function(new_state, coords)\n",
        "        delta = new_energy - current_energy\n",
        "        if temperature != 0:\n",
        "            if random() < exp( -delta / temperature):\n",
        "                current_energy = new_energy\n",
        "                current_state = deepcopy(new_state)\n",
        "                accept += 1\n",
        "        \n",
        "        if new_energy < best_energy:\n",
        "            best_energy = new_energy\n",
        "            best_state = deepcopy(new_state)\n",
        "        \n",
        "        # temperature = cooling_linear_additive(min_temperature, max_temperature, step, step_max)\n",
        "        temperature = cooling_quadratic_m(min_temperature, alpha, step)\n",
        "        step += 1\n",
        "    print(f\"ended on step = {step} and temperature = {temperature}\")\n",
        "    return best_energy, best_state"
      ],
      "metadata": {
        "id": "uHTRPSK8gxSR"
      },
      "execution_count": null,
      "outputs": []
    },
    {
      "cell_type": "code",
      "source": [
        "from random import shuffle"
      ],
      "metadata": {
        "id": "IVIFjoWvWfjN"
      },
      "execution_count": null,
      "outputs": []
    },
    {
      "cell_type": "code",
      "source": [
        "def plotTSP(paths, points, num_iters=1):\n",
        "\n",
        "    # Unpack the primary TSP path and transform it into a list of ordered \n",
        "    # coordinates\n",
        "\n",
        "    x = []; y = []\n",
        "    for i in paths[0]:\n",
        "        x.append(points[i][0])\n",
        "        y.append(points[i][1])\n",
        "    \n",
        "    plt.plot(x, y, 'co')\n",
        "\n",
        "    # Set a scale for the arrow heads (there should be a reasonable default for this, WTF?)\n",
        "    a_scale = float(max(x))/float(100)\n",
        "\n",
        "    # Draw the older paths, if provided\n",
        "    if num_iters > 1:\n",
        "\n",
        "        for i in range(1, num_iters):\n",
        "\n",
        "            # Transform the old paths into a list of coordinates\n",
        "            xi = []; yi = [];\n",
        "            for j in paths[i]:\n",
        "                xi.append(points[j][0])\n",
        "                yi.append(points[j][1])\n",
        "\n",
        "            plt.arrow(xi[-1], yi[-1], (xi[0] - xi[-1]), (yi[0] - yi[-1]), \n",
        "                    head_width = a_scale, color = 'r', \n",
        "                    length_includes_head = True, ls = 'dashed',\n",
        "                    width = 0.001/float(num_iters))\n",
        "            for i in range(0, len(x) - 1):\n",
        "                plt.arrow(xi[i], yi[i], (xi[i+1] - xi[i]), (yi[i+1] - yi[i]),\n",
        "                        head_width = a_scale, color = 'r', length_includes_head = True,\n",
        "                        ls = 'dashed', width = 0.001/float(num_iters))\n",
        "\n",
        "    # Draw the primary path for the TSP problem\n",
        "    plt.arrow(x[-1], y[-1], (x[0] - x[-1]), (y[0] - y[-1]), head_width = a_scale, \n",
        "            color ='g', length_includes_head=True)\n",
        "    for i in range(0,len(x)-1):\n",
        "        plt.arrow(x[i], y[i], (x[i+1] - x[i]), (y[i+1] - y[i]), head_width = a_scale,\n",
        "                color = 'g', length_includes_head = True)\n",
        "\n",
        "    #Set axis too slitghtly larger than the set of x and y\n",
        "    plt.xlim(0, max(x)*1.1)\n",
        "    plt.ylim(0, max(y)*1.1)\n",
        "    plt.show()"
      ],
      "metadata": {
        "id": "gjDs5vQEbV-a"
      },
      "execution_count": null,
      "outputs": []
    },
    {
      "cell_type": "code",
      "source": [
        "route = [i for i in range(number_of_cities)]\n",
        "shuffle(route)\n",
        "city_list = list(zip(x, y))\n",
        "print(compute_travelling_salesperson(route, city_list))\n",
        "paths = []\n",
        "paths.append(route)\n",
        "number_of_elems = 1\n",
        "step_max = 100000\n",
        "alpha = 0.8\n",
        "min_temperature = 0\n",
        "max_temperature = 10000\n",
        "be, br = annealing(route, move_combinatorial, compute_travelling_salesperson, number_of_elems, points, step_max, alpha, min_temperature, max_temperature)\n",
        "paths.append(br)\n",
        "plotTSP(paths, city_list, 2)\n",
        "print(be, br)"
      ],
      "metadata": {
        "colab": {
          "base_uri": "https://localhost:8080/",
          "height": 317
        },
        "id": "kO6TKkbdQkM9",
        "outputId": "cbfb4b77-7392-4ec3-8920-edf831e491a1"
      },
      "execution_count": null,
      "outputs": [
        {
          "output_type": "stream",
          "name": "stdout",
          "text": [
            "691.1193347682989\n",
            "ended on step = 100000 and temperature = 0.0\n"
          ]
        },
        {
          "output_type": "display_data",
          "data": {
            "text/plain": [
              "<Figure size 432x288 with 1 Axes>"
            ],
            "image/png": "[encoded data removed]"
          },
          "metadata": {
            "needs_background": "light"
          }
        },
        {
          "output_type": "stream",
          "name": "stdout",
          "text": [
            "303.79027474061365 [4, 0, 2, 6, 7, 8, 1, 11, 9, 10, 3, 5]\n"
          ]
        }
      ]
    },
    {
      "cell_type": "markdown",
      "source": [
        "Proces optymalizacji jest lepszy dla chłodzenia funkcją kwadratową."
      ],
      "metadata": {
        "id": "2C6YvpBN5EwP"
      }
    },
    {
      "cell_type": "markdown",
      "source": [
        "# **Obraz binarny**"
      ],
      "metadata": {
        "id": "hwUTyClFr_IY"
      }
    },
    {
      "cell_type": "code",
      "source": [
        "def get_neighbors(neighborhood):\n",
        "    if neighborhood == 4:\n",
        "        return [(1, 0), (-1, 0), (0, 1), (0, -1)]\n",
        "    elif neighborhood == 8:\n",
        "        return [(1, 0), (-1, 0), (0, 1), (0, -1), (1, 1), (-1, -1), (1, -1), (-1, 1)]\n",
        "    elif neighborhood == 12:\n",
        "        return [(1, 0), (-1, 0), (0, 1), (0, -1), (1, 1), (-1, -1), (1, -1), (-1, 1), (2, 0), (-2, 0), (0, 2), (0, -2)]\n",
        "    elif neighborhood == 16:\n",
        "        return [(1, 0), (-1, 0), (0, 1), (0, -1), (1, 1), (-1, -1), (1, -1), (-1, 1), (2, 0), (-2, 0), (0, 2), (0, -2), (2, 2), (-2, 2), (2, -2), (-2, -2)]\n",
        "\n",
        "def elem_in_grid(grid, row, column):\n",
        "    n = len(grid)\n",
        "    return 0 <= row < n and 0 <= column < n\n",
        "\n",
        "def energy_function(grid, neighborhood):\n",
        "    n = len(grid)\n",
        "    neighbors = get_neighbors(neighborhood)\n",
        "    value = 0\n",
        "    for i in range(n):\n",
        "        for j in range(n):\n",
        "            if grid[i][j] == 1:\n",
        "                counter = 0\n",
        "                for neighbor in neighbors:\n",
        "                    if elem_in_grid(grid, i + neighbor[0], j + neighbor[1]):\n",
        "                        counter += grid[ i + neighbor[0] ][ j + neighbor[1] ]\n",
        "\n",
        "                value += counter\n",
        "    return value  \n",
        "\n",
        "def energy_of_element(grid, row, column, neighborhood):\n",
        "    neighbors = get_neighbors(neighborhood)\n",
        "    n = len(grid)\n",
        "    counter = 0\n",
        "    for neighbor in neighbors:\n",
        "        if elem_in_grid(grid, row + neighbor[0], column + neighbor[1]):\n",
        "            counter += grid[ row + neighbor[0] ][ column + neighbor[1] ]\n",
        "    return counter\n",
        "\n",
        "def generate_binary_grid(n, density):\n",
        "    grid = np.zeros((n, n))\n",
        "    for i in range(n):\n",
        "        for j in range(n):\n",
        "            if random() < density:\n",
        "                grid[i][j] = 1\n",
        "    return grid\n",
        "\n",
        "def update_objective(grid, objective, row1, col1, row2, col2, neighborhood):\n",
        "    neighbors = get_neighbors(neighborhood)\n",
        "    counter1 = 0\n",
        "    counter2 = 0\n",
        "    for neighbor in neighbors:\n",
        "        if elem_in_grid(grid, row1 + neighbor[0], col1 + neighbor[1]):\n",
        "            counter1 += energy_of_element(grid, row1 + neighbor[0], col1 + neighbor[1], neighborhood)\n",
        "        if elem_in_grid(grid, row2 + neighbor[0], col2 + neighbor[1]):\n",
        "            counter2 += energy_of_element(grid, row2 + neighbor[0], col2 + neighbor[1], neighborhood)\n",
        "    objective -= counter1 + counter2\n",
        "\n",
        "    grid[row1][col1], grid[row2][col2] = grid[row2][col2], grid[row1][col1]\n",
        "\n",
        "    counter1 = 0\n",
        "    counter2 = 0\n",
        "    for neighbor in neighbors:\n",
        "        if elem_in_grid(grid, row1 + neighbor[0], col1 + neighbor[1]):\n",
        "            counter1 += energy_of_element(grid, row1 + neighbor[0], col1 + neighbor[1], neighborhood)\n",
        "        if elem_in_grid(grid, row2 + neighbor[0], col2 + neighbor[1]):\n",
        "            counter2 += energy_of_element(grid, row2 + neighbor[0], col2 + neighbor[1], neighborhood)\n",
        "    objective += counter1 + counter2\n",
        "    return grid, objective\n",
        "\n",
        "\n",
        "def move_elements(grid, number_of_elements, objective, neighborhood):\n",
        "    n = len(grid)\n",
        "    for i in range(number_of_elements):\n",
        "        (row1, col1) = (randint(0, n-1), randint(0, n-1))\n",
        "        (row2, col2) = (randint(0, n-1), randint(0, n-1))\n",
        "        while grid[row1][col1] == grid[row2][col2]:\n",
        "            (row1, col1) = (randint(0, n-1), randint(0, n-1))\n",
        "            (row2, col2) = (randint(0, n-1), randint(0, n-1))\n",
        "        grid, objective = update_objective(grid, objective, row1, col1, row2, col2, neighborhood)\n",
        "    return grid, objective"
      ],
      "metadata": {
        "id": "9odmvpYBsig_"
      },
      "execution_count": null,
      "outputs": []
    },
    {
      "cell_type": "code",
      "source": [
        "import matplotlib as mpl\n",
        "from matplotlib import pyplot\n",
        "import numpy as np"
      ],
      "metadata": {
        "id": "zoR--_Lf7Nly"
      },
      "execution_count": null,
      "outputs": []
    },
    {
      "cell_type": "code",
      "source": [
        "def visualize_grid(zvals):\n",
        "    # make a color map of fixed colors\n",
        "    cmap = mpl.colors.ListedColormap(['white','black'])\n",
        "    bounds=[0, 0, 1, 1]\n",
        "    norm = mpl.colors.BoundaryNorm(bounds, cmap.N)\n",
        "\n",
        "    # tell imshow about color map so that only set colors are used\n",
        "    img = pyplot.imshow(zvals,interpolation='nearest',\n",
        "                    cmap = cmap,norm=norm)\n",
        "\n",
        "    # make a color bar\n",
        "    pyplot.colorbar(img,cmap=cmap,\n",
        "                norm=norm,boundaries=bounds,ticks=[0, 1])\n",
        "\n",
        "    pyplot.show()"
      ],
      "metadata": {
        "id": "5NKb8Mcr7MFX"
      },
      "execution_count": null,
      "outputs": []
    },
    {
      "cell_type": "code",
      "source": [
        "n = 100\n",
        "density = 0.3\n",
        "neighborhood = 8\n",
        "number_of_elements_to_move = 3\n",
        "step = 1\n",
        "accept = 0\n",
        "step_max = 1000\n",
        "alpha = 0.8\n",
        "min_temperature = 0\n",
        "max_temperature = 1000"
      ],
      "metadata": {
        "id": "cRrUBPgWsHRf"
      },
      "execution_count": null,
      "outputs": []
    },
    {
      "cell_type": "code",
      "source": [
        "grid = generate_binary_grid(n, density)\n",
        "print(energy_function(grid, 8))\n",
        "visualize_grid(grid)\n",
        "be, bs = annealing(grid, move_elements, energy_function, number_of_elements_to_move, neighborhood, step_max, alpha, min_temperature, max_temperature)\n",
        "print(be)\n",
        "visualize_grid(bs)"
      ],
      "metadata": {
        "colab": {
          "base_uri": "https://localhost:8080/",
          "height": 571
        },
        "id": "2C6xra9a2Jzu",
        "outputId": "2dd7635a-1bd2-421d-f8c1-c98117a38c10"
      },
      "execution_count": null,
      "outputs": [
        {
          "output_type": "stream",
          "name": "stdout",
          "text": [
            "7348.0\n"
          ]
        },
        {
          "output_type": "display_data",
          "data": {
            "text/plain": [
              "<Figure size 432x288 with 2 Axes>"
            ],
            "image/png": "[encoded data removed]"
          },
          "metadata": {
            "needs_background": "light"
          }
        },
        {
          "output_type": "stream",
          "name": "stdout",
          "text": [
            "ended on step = 1000 and temperature = 0.0\n",
            "7184.0\n"
          ]
        },
        {
          "output_type": "display_data",
          "data": {
            "text/plain": [
              "<Figure size 432x288 with 2 Axes>"
            ],
            "image/png": "[encoded data removed]"
          },
          "metadata": {
            "needs_background": "light"
          }
        }
      ]
    },
    {
      "cell_type": "markdown",
      "source": [
        "Stany sąsiednie generuję poprzez losową zamianę czarnych i białych kwadracików. Im większe sąsiedztwo tym trudniej jest zminimalizować wybraną funkcję energii. Funkcja sąsiedztwa to suma ilości sąsiadów dla każdego punktu."
      ],
      "metadata": {
        "id": "IBlAIEti3F73"
      }
    },
    {
      "cell_type": "markdown",
      "source": [
        "# **Sudoku**"
      ],
      "metadata": {
        "id": "n7bH6OuSr-Y3"
      }
    },
    {
      "cell_type": "code",
      "source": [
        "def read_grid(filename, size):\n",
        "    grid = np.zeros((size, size), dtype=np.int8)\n",
        "    can_move = np.ones((size, size), dtype=bool)\n",
        "    with open(filename, encoding=\"utf-8\") as f:\n",
        "        for i in range(size):\n",
        "            row = f.readline().split(' ')\n",
        "            for j in range(size):\n",
        "                if row[j][:1] != \"x\":\n",
        "                    grid[i, j] = int(row[j])\n",
        "                    can_move[i, j] = False\n",
        "    return grid, can_move"
      ],
      "metadata": {
        "id": "nUA2fZzEr9zG"
      },
      "execution_count": null,
      "outputs": []
    },
    {
      "cell_type": "code",
      "source": [
        "# grid, can_move = read_grid(\"/content/sample_data/sudoku.txt\", 9)\n",
        "grid, can_move = read_grid(\"/content/sample_data/sudoku_input.txt\", 9)\n",
        "print(grid)\n",
        "print(can_move)"
      ],
      "metadata": {
        "colab": {
          "base_uri": "https://localhost:8080/",
          "height": 338
        },
        "id": "9Z57MFZluRDc",
        "outputId": "4025b1a3-1369-428f-9b66-d346b82825b8"
      },
      "execution_count": null,
      "outputs": [
        {
          "output_type": "error",
          "ename": "FileNotFoundError",
          "evalue": "ignored",
          "traceback": [
            "\u001b[0;31m---------------------------------------------------------------------------\u001b[0m",
            "\u001b[0;31mFileNotFoundError\u001b[0m                         Traceback (most recent call last)",
            "\u001b[0;32m<ipython-input-16-0c8beda36cb1>\u001b[0m in \u001b[0;36m<module>\u001b[0;34m()\u001b[0m\n\u001b[1;32m      1\u001b[0m \u001b[0;31m# grid, can_move = read_grid(\"/content/sample_data/sudoku.txt\", 9)\u001b[0m\u001b[0;34m\u001b[0m\u001b[0;34m\u001b[0m\u001b[0;34m\u001b[0m\u001b[0m\n\u001b[0;32m----> 2\u001b[0;31m \u001b[0mgrid\u001b[0m\u001b[0;34m,\u001b[0m \u001b[0mcan_move\u001b[0m \u001b[0;34m=\u001b[0m \u001b[0mread_grid\u001b[0m\u001b[0;34m(\u001b[0m\u001b[0;34m\"/content/sample_data/sudoku_input.txt\"\u001b[0m\u001b[0;34m,\u001b[0m \u001b[0;36m9\u001b[0m\u001b[0;34m)\u001b[0m\u001b[0;34m\u001b[0m\u001b[0;34m\u001b[0m\u001b[0m\n\u001b[0m\u001b[1;32m      3\u001b[0m \u001b[0mprint\u001b[0m\u001b[0;34m(\u001b[0m\u001b[0mgrid\u001b[0m\u001b[0;34m)\u001b[0m\u001b[0;34m\u001b[0m\u001b[0;34m\u001b[0m\u001b[0m\n\u001b[1;32m      4\u001b[0m \u001b[0mprint\u001b[0m\u001b[0;34m(\u001b[0m\u001b[0mcan_move\u001b[0m\u001b[0;34m)\u001b[0m\u001b[0;34m\u001b[0m\u001b[0;34m\u001b[0m\u001b[0m\n",
            "\u001b[0;32m<ipython-input-15-5eaeb1c50938>\u001b[0m in \u001b[0;36mread_grid\u001b[0;34m(filename, size)\u001b[0m\n\u001b[1;32m      2\u001b[0m     \u001b[0mgrid\u001b[0m \u001b[0;34m=\u001b[0m \u001b[0mnp\u001b[0m\u001b[0;34m.\u001b[0m\u001b[0mzeros\u001b[0m\u001b[0;34m(\u001b[0m\u001b[0;34m(\u001b[0m\u001b[0msize\u001b[0m\u001b[0;34m,\u001b[0m \u001b[0msize\u001b[0m\u001b[0;34m)\u001b[0m\u001b[0;34m,\u001b[0m \u001b[0mdtype\u001b[0m\u001b[0;34m=\u001b[0m\u001b[0mnp\u001b[0m\u001b[0;34m.\u001b[0m\u001b[0mint8\u001b[0m\u001b[0;34m)\u001b[0m\u001b[0;34m\u001b[0m\u001b[0;34m\u001b[0m\u001b[0m\n\u001b[1;32m      3\u001b[0m     \u001b[0mcan_move\u001b[0m \u001b[0;34m=\u001b[0m \u001b[0mnp\u001b[0m\u001b[0;34m.\u001b[0m\u001b[0mones\u001b[0m\u001b[0;34m(\u001b[0m\u001b[0;34m(\u001b[0m\u001b[0msize\u001b[0m\u001b[0;34m,\u001b[0m \u001b[0msize\u001b[0m\u001b[0;34m)\u001b[0m\u001b[0;34m,\u001b[0m \u001b[0mdtype\u001b[0m\u001b[0;34m=\u001b[0m\u001b[0mbool\u001b[0m\u001b[0;34m)\u001b[0m\u001b[0;34m\u001b[0m\u001b[0;34m\u001b[0m\u001b[0m\n\u001b[0;32m----> 4\u001b[0;31m     \u001b[0;32mwith\u001b[0m \u001b[0mopen\u001b[0m\u001b[0;34m(\u001b[0m\u001b[0mfilename\u001b[0m\u001b[0;34m,\u001b[0m \u001b[0mencoding\u001b[0m\u001b[0;34m=\u001b[0m\u001b[0;34m\"utf-8\"\u001b[0m\u001b[0;34m)\u001b[0m \u001b[0;32mas\u001b[0m \u001b[0mf\u001b[0m\u001b[0;34m:\u001b[0m\u001b[0;34m\u001b[0m\u001b[0;34m\u001b[0m\u001b[0m\n\u001b[0m\u001b[1;32m      5\u001b[0m         \u001b[0;32mfor\u001b[0m \u001b[0mi\u001b[0m \u001b[0;32min\u001b[0m \u001b[0mrange\u001b[0m\u001b[0;34m(\u001b[0m\u001b[0msize\u001b[0m\u001b[0;34m)\u001b[0m\u001b[0;34m:\u001b[0m\u001b[0;34m\u001b[0m\u001b[0;34m\u001b[0m\u001b[0m\n\u001b[1;32m      6\u001b[0m             \u001b[0mrow\u001b[0m \u001b[0;34m=\u001b[0m \u001b[0mf\u001b[0m\u001b[0;34m.\u001b[0m\u001b[0mreadline\u001b[0m\u001b[0;34m(\u001b[0m\u001b[0;34m)\u001b[0m\u001b[0;34m.\u001b[0m\u001b[0msplit\u001b[0m\u001b[0;34m(\u001b[0m\u001b[0;34m' '\u001b[0m\u001b[0;34m)\u001b[0m\u001b[0;34m\u001b[0m\u001b[0;34m\u001b[0m\u001b[0m\n",
            "\u001b[0;31mFileNotFoundError\u001b[0m: [Errno 2] No such file or directory: '/content/sample_data/sudoku_input.txt'"
          ]
        }
      ]
    },
    {
      "cell_type": "code",
      "source": [
        "def cost_function(grid):\n",
        "    n = len(grid)\n",
        "    n_sqrt = int(sqrt(n))\n",
        "    value = 0\n",
        "    for i in range(n):\n",
        "        for val in range(1, n+1):\n",
        "            value += n - len(np.unique(grid[:, i]))\n",
        "            value += n - len(np.unique(grid[i, :]))\n",
        "    \n",
        "    for i in range(0, n, n_sqrt):\n",
        "        for j in range(0, n, n_sqrt):\n",
        "            square = np.zeros((1, n))\n",
        "            for k in range(0, n_sqrt):\n",
        "                for l in range(0, n_sqrt):\n",
        "                    square[:, k*n_sqrt + l] = grid[i + k, j + l]\n",
        "            for val in range(1, n+1):\n",
        "                value += n - len(np.unique(square))\n",
        "    return value\n",
        "\n",
        "def swap_function(grid, can_move, number_of_elements_to_move):\n",
        "    n = len(grid)\n",
        "    n_sqrt = int(sqrt(n))\n",
        "    for i in range(number_of_elements_to_move):\n",
        "        which_box = (randint(0, n_sqrt-1), randint(0, n_sqrt-1))\n",
        "        (start_row, start_col) = (which_box[0] * n_sqrt, which_box[1] * n_sqrt) \n",
        "        (row1, col1) = (randint(0, n_sqrt-1), randint(0, n_sqrt-1))\n",
        "        (row2, col2) = (randint(0, n_sqrt-1), randint(0, n_sqrt-1))\n",
        "        while not (can_move[row1 + start_row, col1 + start_col] or can_move[start_row + row2, start_col + col2]):\n",
        "            (row1, col1) = (randint(0, n_sqrt-1), randint(0, n_sqrt-1))\n",
        "            (row2, col2) = (randint(0, n_sqrt-1), randint(0, n_sqrt-1))\n",
        "        \n",
        "        grid[row1 + start_row, col1 + start_col], grid[start_row + row2, start_col + col2] = grid[start_row + row2, start_col + col2], grid[row1 + start_row, col1 + start_col]\n",
        "    return grid\n",
        "\n",
        "def fill_grid(grid, can_move):\n",
        "    n = len(grid)\n",
        "    n_sqrt = int(sqrt(n))\n",
        "    for i in range(0, n, n_sqrt):\n",
        "        for j in range(0, n, n_sqrt):\n",
        "            box = grid[i:i+n_sqrt, j:j+n_sqrt]\n",
        "            for k in range(i,i+n_sqrt):\n",
        "                for l in range(j,j+n_sqrt):\n",
        "                    for val in range(1, n+1):\n",
        "                        if val not in box:\n",
        "                            grid[k, l] = val\n",
        "                            break\n",
        "            \n",
        "    return grid"
      ],
      "metadata": {
        "id": "w8KLYGksucMI"
      },
      "execution_count": null,
      "outputs": []
    },
    {
      "cell_type": "code",
      "source": [
        "def annealing(state, swap_function, objective_function, number_of_elements_to_move, can_move, step_max, alpha, temperature, min_temperature, max_temperature):\n",
        "    current_energy = objective_function(state)\n",
        "    current_state = deepcopy(state)\n",
        "    best_energy = current_energy\n",
        "    best_state = deepcopy(state)\n",
        "    step = 0\n",
        "    accept = 0\n",
        "    while step < step_max and temperature >= min_temperature: \n",
        "        new_state = swap_function(current_state, can_move, number_of_elements_to_move)\n",
        "        new_energy = objective_function(new_state)\n",
        "        delta = new_energy - current_energy\n",
        "        if random() < exp( -delta / temperature):\n",
        "            current_energy = new_energy\n",
        "            current_state = deepcopy(new_state)\n",
        "            accept += 1\n",
        "        \n",
        "        if new_energy < best_energy:\n",
        "            best_energy = new_energy\n",
        "            best_state = deepcopy(new_state)\n",
        "        \n",
        "        temperature = cooling_linear(max_temperature, alpha, step)\n",
        "        step += 1\n",
        "    \n",
        "    return best_energy, best_state"
      ],
      "metadata": {
        "id": "ApfyIf1i6q_w"
      },
      "execution_count": null,
      "outputs": []
    },
    {
      "cell_type": "code",
      "source": [
        "start_state = fill_grid(grid, can_move)\n",
        "print(cost_function(start_state))\n",
        "print(start_state)\n",
        "number_of_elements_to_move = 3\n",
        "step_max = 10000\n",
        "alpha = 0.3\n",
        "temperature = 4000\n",
        "min_temperature = 0\n",
        "max_temperature = 10000\n",
        "be, bs = annealing(start_state, swap_function, cost_function, number_of_elements_to_move, can_move, step_max, \n",
        "                   alpha, temperature, min_temperature, max_temperature)\n",
        "print(be)\n",
        "print(bs)"
      ],
      "metadata": {
        "colab": {
          "base_uri": "https://localhost:8080/",
          "height": 234
        },
        "id": "ijPxKOxBwiIe",
        "outputId": "592063bb-342e-4720-cd69-a0404906f149"
      },
      "execution_count": null,
      "outputs": [
        {
          "output_type": "error",
          "ename": "NameError",
          "evalue": "ignored",
          "traceback": [
            "\u001b[0;31m---------------------------------------------------------------------------\u001b[0m",
            "\u001b[0;31mNameError\u001b[0m                                 Traceback (most recent call last)",
            "\u001b[0;32m<ipython-input-19-df06e4df9c91>\u001b[0m in \u001b[0;36m<module>\u001b[0;34m()\u001b[0m\n\u001b[0;32m----> 1\u001b[0;31m \u001b[0mstart_state\u001b[0m \u001b[0;34m=\u001b[0m \u001b[0mfill_grid\u001b[0m\u001b[0;34m(\u001b[0m\u001b[0mgrid\u001b[0m\u001b[0;34m,\u001b[0m \u001b[0mcan_move\u001b[0m\u001b[0;34m)\u001b[0m\u001b[0;34m\u001b[0m\u001b[0;34m\u001b[0m\u001b[0m\n\u001b[0m\u001b[1;32m      2\u001b[0m \u001b[0mprint\u001b[0m\u001b[0;34m(\u001b[0m\u001b[0mcost_function\u001b[0m\u001b[0;34m(\u001b[0m\u001b[0mstart_state\u001b[0m\u001b[0;34m)\u001b[0m\u001b[0;34m)\u001b[0m\u001b[0;34m\u001b[0m\u001b[0;34m\u001b[0m\u001b[0m\n\u001b[1;32m      3\u001b[0m \u001b[0mprint\u001b[0m\u001b[0;34m(\u001b[0m\u001b[0mstart_state\u001b[0m\u001b[0;34m)\u001b[0m\u001b[0;34m\u001b[0m\u001b[0;34m\u001b[0m\u001b[0m\n\u001b[1;32m      4\u001b[0m \u001b[0mnumber_of_elements_to_move\u001b[0m \u001b[0;34m=\u001b[0m \u001b[0;36m3\u001b[0m\u001b[0;34m\u001b[0m\u001b[0;34m\u001b[0m\u001b[0m\n\u001b[1;32m      5\u001b[0m \u001b[0mstep_max\u001b[0m \u001b[0;34m=\u001b[0m \u001b[0;36m10000\u001b[0m\u001b[0;34m\u001b[0m\u001b[0;34m\u001b[0m\u001b[0m\n",
            "\u001b[0;31mNameError\u001b[0m: name 'can_move' is not defined"
          ]
        }
      ]
    },
    {
      "cell_type": "markdown",
      "source": [
        "Stan początkowy tworzę poprzez zapełnienie planszy tak aby każdy mały kwadrat miał tylko unikalne cyfry. Stany sąsiednie generuje tak, że wybieram z określonego małego kwadratu (3x3) dwie cyfry które zamieniam miejscami. Dzięki temu nie psuję reguły, że w każdym małym kwadracie musi być tylko jedno wystąpienie cyfry, a daję szansę na ulepszenie rozwiązania. Oczywiście, im mniej pustych pól na wejściu tym łatwiej algorytmowi znaleźć poprawne rozwiązanie. Niestety nie dla każdej konfiguracji jest zawsze w stanie znaleźć rozwiązanie."
      ],
      "metadata": {
        "id": "YoQ3gfsAwhnH"
      }
    }
  ]
}